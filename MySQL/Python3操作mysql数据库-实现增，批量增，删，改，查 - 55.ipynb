{
 "cells": [
  {
   "cell_type": "markdown",
   "metadata": {},
   "source": [
    "**Python3操作mysql数据库，实现增、批量增、删、改、查**\n",
    "\n",
    "https://www.ctolib.com/TracyMcgrady6-pymsql_Operation.html"
   ]
  },
  {
   "cell_type": "markdown",
   "metadata": {},
   "source": [
    "https://www.tutorialspoint.com/python3/python_database_access.htm"
   ]
  },
  {
   "cell_type": "markdown",
   "metadata": {
    "ExecuteTime": {
     "end_time": "2019-07-01T06:30:51.339000Z",
     "start_time": "2019-07-01T06:30:51.330000Z"
    }
   },
   "source": [
    "python操作mysql数据库需要导入pymysql（linux）/PyMySQL（windows），在这使用Linux\n",
    "\n",
    "pymysql模块使用流程\n",
    "    1. 建立数据库连接对象（db=pymysql.connect(主机名, 用户名, 密码)）\n",
    "    2. 创建游标对象cur（操作数据库的对象）\n",
    "    3. 游标对象：cur.execute(sql命令)\n",
    "    4. 提交到数据执行：db.commit()\n",
    "    5. 关闭游标对象：cur.close()\n",
    "    6. 关闭数据库连接对象:db.close()\n",
    "\n",
    "connect连接对象\n",
    "    db = pymysql.connect(参数列表)\n",
    "\n",
    "参数列表：\n",
    "\n",
    "    host：主机地址\n",
    "    user：用户名\n",
    "    password：密码\n",
    "    database：库\n",
    "    charset：编码方式，推荐utf8\n",
    "    port：端口号 3306\n",
    "    db（数据库连接对象）的方法\n",
    "\n",
    "    db.close()：断开连接\n",
    "    db.commit()：提交到数据库执行\n",
    "    db.cursor()：创建游标对象，用来执行sql命令\n",
    "    db.rollback()：回滚\n",
    "    cursor游标对象的方法\n",
    "\n",
    "    execute(sql命令)：执行sql命令\n",
    "    close()：关闭游标对象\n",
    "    fetchone()：获取查询结果的第 1 条数据\n",
    "    fetchall()：获取所有的数据\n",
    "    fetchmany(n)：获取自定义条数的数据"
   ]
  },
  {
   "cell_type": "markdown",
   "metadata": {},
   "source": [
    "    pip install PyMySQL"
   ]
  },
  {
   "cell_type": "markdown",
   "metadata": {},
   "source": [
    "#### 数据库连接"
   ]
  },
  {
   "cell_type": "markdown",
   "metadata": {},
   "source": [
    "    您已经创建了数据库 mydatabase.\n",
    "    在TESTDB数据库中您已经创建了表 EMPLOYEE20190701\n",
    "    EMPLOYEE表字段为 FIRST_NAME, LAST_NAME, AGE, SEX 和 INCOME。\n",
    "    连接数据库TESTDB使用的用户名为 \"root\" ，密码为 \"123456\"。当然可以自己更改"
   ]
  },
  {
   "cell_type": "code",
   "execution_count": 12,
   "metadata": {
    "ExecuteTime": {
     "end_time": "2019-07-01T03:50:25.614000Z",
     "start_time": "2019-07-01T03:50:25.594000Z"
    }
   },
   "outputs": [
    {
     "name": "stdout",
     "output_type": "stream",
     "text": [
      "Database version : 5.6.30 \n"
     ]
    }
   ],
   "source": [
    "# coding:utf-8\n",
    "import pymysql\n",
    "\n",
    "# 打开数据库连接\n",
    "db = pymysql.connect(host='localhost', port=3306,\n",
    "                     user='root', password='123456', db='mydatabase', charset='utf8')\n",
    "\n",
    "# 使用 cursor() 方法创建一个游标对象 cursor\n",
    "cursor = db.cursor()\n",
    "\n",
    "# 使用 execute()  方法执行 SQL 查询\n",
    "cursor.execute(\"SELECT VERSION()\")\n",
    "\n",
    "# 使用 fetchone() 方法获取单条数据.\n",
    "data = cursor.fetchone()\n",
    "\n",
    "print(\"Database version : %s \" % data)\n",
    "\n",
    "# 关闭游标\n",
    "cursor.close()\n",
    "# 关闭数据库连接\n",
    "db.close()"
   ]
  },
  {
   "cell_type": "markdown",
   "metadata": {},
   "source": [
    "#### 创建数据库表"
   ]
  },
  {
   "cell_type": "code",
   "execution_count": 14,
   "metadata": {
    "ExecuteTime": {
     "end_time": "2019-07-01T04:00:10.812000Z",
     "start_time": "2019-07-01T04:00:10.277000Z"
    }
   },
   "outputs": [],
   "source": [
    "# coding:utf-8\n",
    "import pymysql\n",
    "\n",
    "# 打开数据库连接\n",
    "db = pymysql.connect(host='localhost', port=3306,\n",
    "                     user='root', password='123456', db='mydatabase', charset='utf8')\n",
    "\n",
    "# 使用 cursor() 方法创建一个游标对象 cursor\n",
    "cursor = db.cursor()\n",
    "\n",
    "# 使用 execute() 方法执行 SQL，如果表存在则删除\n",
    "cursor.execute(\"DROP TABLE IF EXISTS EMPLOYEE20190701\")\n",
    "\n",
    "# 使用预处理语句创建表\n",
    "# \"CREATE TABLE EMPLOYEE20190701\" EMPLOYEE20190701为新创建的表名，以下项目配置表头\n",
    "sql = \"\"\"CREATE TABLE EMPLOYEE20190701 (\n",
    "         FIRST_NAME  CHAR(20) NOT NULL,\n",
    "         LAST_NAME  CHAR(20),\n",
    "         AGE INT,\n",
    "         SEX CHAR(1),\n",
    "         INCOME FLOAT )\"\"\"\n",
    "\n",
    "cursor.execute(sql)\n",
    "# 关闭游标\n",
    "cursor.close()\n",
    "# 关闭数据库连接\n",
    "db.close()"
   ]
  },
  {
   "cell_type": "markdown",
   "metadata": {},
   "source": [
    "#### 数据库插入"
   ]
  },
  {
   "cell_type": "code",
   "execution_count": 17,
   "metadata": {
    "ExecuteTime": {
     "end_time": "2019-07-01T05:43:43.082000Z",
     "start_time": "2019-07-01T05:43:43.067000Z"
    }
   },
   "outputs": [],
   "source": [
    "# coding:utf-8\n",
    "import pymysql\n",
    "\n",
    "# 打开数据库连接\n",
    "db = pymysql.connect(host='localhost', port=3306,\n",
    "                     user='root', password='123456', db='mydatabase', charset='utf8')\n",
    "\n",
    "# 使用cursor()方法获取操作游标\n",
    "cursor = db.cursor()\n",
    "\n",
    "# SQL两种插入格式\n",
    "sql_1 = \"INSERT INTO EMPLOYEE20190701(FIRST_NAME,LAST_NAME, AGE, SEX, INCOME) VALUES ('Mac', 'Mohan', 20, 'M', 2000)\"\n",
    "\n",
    "try:\n",
    "    # 执行sql语句\n",
    "    cursor.execute(sql_1)\n",
    "    # 提交到数据库执行\n",
    "    db.commit()\n",
    "except:\n",
    "    # 如果发生错误则回滚\n",
    "    db.rollback()\n",
    "# 关闭游标\n",
    "cursor.close()\n",
    "# 关闭数据库连接\n",
    "db.close()"
   ]
  },
  {
   "cell_type": "markdown",
   "metadata": {},
   "source": [
    "#### 批量插入多条数据"
   ]
  },
  {
   "cell_type": "markdown",
   "metadata": {},
   "source": [
    "批量操作executemany，可以进行多行插入 先写sql语句。要注意的是里面的参数，不管什么类型，统一使用%s作为占位符 例如，向user表(username,salt,pwd)插入数据\n",
    "\n",
    "    sql = 'INSERT INTO 表名 VALUES(%s,%s,%s)'\n",
    "\n",
    "对应的param是一个tuple或者list\n",
    "\n",
    "    param = ((username1, salt1, pwd1), (username2, salt2, pwd2), (username3, salt3, pwd3))\n",
    "\n",
    "这样就包含了三条数据，通过executemany插入\n",
    "\n",
    "    n=cursor.executemany(sql, param)"
   ]
  },
  {
   "cell_type": "code",
   "execution_count": 18,
   "metadata": {
    "ExecuteTime": {
     "end_time": "2019-07-01T05:46:54.837000Z",
     "start_time": "2019-07-01T05:46:54.733000Z"
    }
   },
   "outputs": [
    {
     "name": "stderr",
     "output_type": "stream",
     "text": [
      "d:\\Anaconda3\\lib\\site-packages\\pymysql\\cursors.py:170: Warning: (1265, \"Data truncated for column 'SEX' at row 1\")\n",
      "  result = self._query(query)\n",
      "d:\\Anaconda3\\lib\\site-packages\\pymysql\\cursors.py:170: Warning: (1265, \"Data truncated for column 'SEX' at row 2\")\n",
      "  result = self._query(query)\n",
      "d:\\Anaconda3\\lib\\site-packages\\pymysql\\cursors.py:170: Warning: (1265, \"Data truncated for column 'SEX' at row 3\")\n",
      "  result = self._query(query)\n"
     ]
    }
   ],
   "source": [
    "# coding:utf-8\n",
    "import pymysql\n",
    "\n",
    "# 打开数据库连接\n",
    "db = pymysql.connect(host='localhost', port=3306,\n",
    "                     user='root', password='123456', db='mydatabase', charset='utf8')\n",
    "\n",
    "# 使用cursor()方法获取操作游标\n",
    "cursor = db.cursor()\n",
    "\n",
    "# SQL 插入语句\n",
    "sql = \"INSERT INTO EMPLOYEE20190701(FIRST_NAME, AGE, SEX) VALUES (%s,%s,%s)\"\n",
    "# 一个tuple或者list\n",
    "T = (('xiaoming', 31, 'boy'), ('hong', 22, 'girl'), ('wang', 90, 'man'))\n",
    "\n",
    "try:\n",
    "    # 执行sql语句\n",
    "    cursor.executemany(sql, T)\n",
    "    # 提交到数据库执行\n",
    "    db.commit()\n",
    "except :\n",
    "    # 如果发生错误则回滚\n",
    "    db.rollback()\n",
    "# 关闭游标\n",
    "cursor.close()\n",
    "# 关闭数据库连接\n",
    "db.close()"
   ]
  },
  {
   "cell_type": "markdown",
   "metadata": {},
   "source": [
    "#### 数据库修改更新"
   ]
  },
  {
   "cell_type": "code",
   "execution_count": 20,
   "metadata": {
    "ExecuteTime": {
     "end_time": "2019-07-01T05:52:11.155000Z",
     "start_time": "2019-07-01T05:52:10.986000Z"
    }
   },
   "outputs": [],
   "source": [
    "# coding:utf-8\n",
    "import pymysql\n",
    "\n",
    "# 打开数据库连接\n",
    "db = pymysql.connect(host='localhost', port=3306,\n",
    "                     user='root', password='123456', db='mydatabase', charset='utf8')\n",
    "\n",
    "# 使用cursor()方法获取操作游标\n",
    "cursor = db.cursor()\n",
    "\n",
    "# SQL 更新语句\n",
    "sql = \"UPDATE EMPLOYEE20190701 SET AGE = AGE + 1 WHERE SEX = '%c'\" % 'M'\n",
    "try:\n",
    "    # 执行SQL语句\n",
    "    cursor.execute(sql)\n",
    "    # 提交到数据库执行\n",
    "    db.commit()\n",
    "except:\n",
    "    # 发生错误时回滚\n",
    "    db.rollback()\n",
    "\n",
    "# 关闭游标\n",
    "cursor.close()\n",
    "# 关闭数据库连接\n",
    "db.close()"
   ]
  },
  {
   "cell_type": "markdown",
   "metadata": {},
   "source": [
    "#### 数据库查找"
   ]
  },
  {
   "cell_type": "code",
   "execution_count": 23,
   "metadata": {
    "ExecuteTime": {
     "end_time": "2019-07-01T05:59:23.586000Z",
     "start_time": "2019-07-01T05:59:23.515000Z"
    }
   },
   "outputs": [
    {
     "name": "stdout",
     "output_type": "stream",
     "text": [
      "('xiaoming', None, 31, 'b', None)\n",
      "fname=Mac,lname=Mohan,age=21,sex=M,income=2000\n"
     ]
    }
   ],
   "source": [
    "# coding:utf-8\n",
    "import pymysql\n",
    "\n",
    "# 打开数据库连接\n",
    "db = pymysql.connect(host='localhost', port=3306,\n",
    "                     user='root', password='123456', db='mydatabase', charset='utf8')\n",
    "\n",
    "# 使用cursor()方法获取操作游标\n",
    "cursor = db.cursor()\n",
    "\n",
    "# SQL 查询语句\n",
    "sql1 = \"SELECT * FROM EMPLOYEE20190701 WHERE FIRST_NAME = 'xiaoming'\"\n",
    "# SQL 查询语句\n",
    "sql2 = \"SELECT * FROM EMPLOYEE20190701 WHERE INCOME > '%d'\" % 1000\n",
    "\n",
    "try:\n",
    "    # 执行SQL语句\n",
    "    cursor.execute(sql1)\n",
    "    # results是个元组对象\n",
    "    results = cursor.fetchone()\n",
    "    # 先判断是否为空\n",
    "    if results is None:\n",
    "        print(\"查询为空\")\n",
    "    else:\n",
    "        print(results)\n",
    "\n",
    "    # 执行SQL语句\n",
    "    cursor.execute(sql2)\n",
    "    # 获取所有记录列表\n",
    "    results = cursor.fetchall()\n",
    "    for row in results:\n",
    "        fname = row[0]\n",
    "        lname = row[1]\n",
    "        age = row[2]\n",
    "        sex = row[3]\n",
    "        income = row[4]\n",
    "        # 打印结果\n",
    "        print(\"fname=%s,lname=%s,age=%d,sex=%s,income=%d\" % (fname, lname, age, sex, income))\n",
    "except:\n",
    "    print(\"Error: unable to fetch data\")\n",
    "\n",
    "# 关闭游标\n",
    "cursor.close()\n",
    "# 关闭数据库连接\n",
    "db.close()"
   ]
  },
  {
   "cell_type": "markdown",
   "metadata": {},
   "source": [
    "#### 数据删除"
   ]
  },
  {
   "cell_type": "code",
   "execution_count": 24,
   "metadata": {
    "ExecuteTime": {
     "end_time": "2019-07-01T06:01:34.642000Z",
     "start_time": "2019-07-01T06:01:34.461000Z"
    }
   },
   "outputs": [],
   "source": [
    "# coding:utf-8\n",
    "import pymysql\n",
    "\n",
    "# 打开数据库连接\n",
    "db = pymysql.connect(host='localhost', port=3306,\n",
    "                     user='root', password='123456', db='mydatabase', charset='utf8')\n",
    "\n",
    "# 使用cursor()方法获取操作游标\n",
    "cursor = db.cursor()\n",
    "\n",
    "# SQL 删除语句\n",
    "sql = \"DELETE FROM EMPLOYEE20190701 WHERE AGE > '%d'\" % 60\n",
    "try:\n",
    "    # 执行SQL语句\n",
    "    cursor.execute(sql)\n",
    "    # 提交修改\n",
    "    db.commit()\n",
    "except:\n",
    "    # 发生错误时回滚\n",
    "    db.rollback()\n",
    "\n",
    "# 关闭游标\n",
    "cursor.close()\n",
    "# 关闭数据库连接\n",
    "db.close()"
   ]
  },
  {
   "cell_type": "code",
   "execution_count": null,
   "metadata": {},
   "outputs": [],
   "source": []
  },
  {
   "cell_type": "code",
   "execution_count": null,
   "metadata": {},
   "outputs": [],
   "source": []
  },
  {
   "cell_type": "code",
   "execution_count": null,
   "metadata": {},
   "outputs": [],
   "source": []
  }
 ],
 "metadata": {
  "kernelspec": {
   "display_name": "Python 3",
   "language": "python",
   "name": "python3"
  },
  "language_info": {
   "codemirror_mode": {
    "name": "ipython",
    "version": 3
   },
   "file_extension": ".py",
   "mimetype": "text/x-python",
   "name": "python",
   "nbconvert_exporter": "python",
   "pygments_lexer": "ipython3",
   "version": "3.6.2"
  },
  "toc": {
   "nav_menu": {},
   "number_sections": true,
   "sideBar": true,
   "skip_h1_title": false,
   "title_cell": "Table of Contents",
   "title_sidebar": "Contents",
   "toc_cell": false,
   "toc_position": {},
   "toc_section_display": true,
   "toc_window_display": false
  },
  "varInspector": {
   "cols": {
    "lenName": 16,
    "lenType": 16,
    "lenVar": 40
   },
   "kernels_config": {
    "python": {
     "delete_cmd_postfix": "",
     "delete_cmd_prefix": "del ",
     "library": "var_list.py",
     "varRefreshCmd": "print(var_dic_list())"
    },
    "r": {
     "delete_cmd_postfix": ") ",
     "delete_cmd_prefix": "rm(",
     "library": "var_list.r",
     "varRefreshCmd": "cat(var_dic_list()) "
    }
   },
   "types_to_exclude": [
    "module",
    "function",
    "builtin_function_or_method",
    "instance",
    "_Feature"
   ],
   "window_display": false
  }
 },
 "nbformat": 4,
 "nbformat_minor": 2
}
