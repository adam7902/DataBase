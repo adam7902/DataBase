{
 "cells": [
  {
   "cell_type": "code",
   "execution_count": null,
   "metadata": {},
   "outputs": [],
   "source": []
  },
  {
   "cell_type": "markdown",
   "metadata": {},
   "source": [
    "Python+MySQL数据库操作（PyMySQL\n",
    "\n",
    "https://www.yiibai.com/python/python_database_access.html"
   ]
  },
  {
   "cell_type": "markdown",
   "metadata": {},
   "source": [
    "Python3操作mysql数据库，实现增、批量增、删、改、查\n",
    "\n",
    "https://www.ctolib.com/TracyMcgrady6-pymsql_Operation.html"
   ]
  },
  {
   "cell_type": "markdown",
   "metadata": {},
   "source": [
    "    pip install PyMySQL"
   ]
  },
  {
   "cell_type": "markdown",
   "metadata": {},
   "source": [
    "**芝麻教程 Python3 MySQL**\n",
    "\n",
    "http://www.web3.xin/code/544.html"
   ]
  },
  {
   "cell_type": "markdown",
   "metadata": {},
   "source": [
    "#### 数据库连接"
   ]
  },
  {
   "cell_type": "markdown",
   "metadata": {},
   "source": [
    "连接数据库前，请先确认以下事项：\n",
    "\n",
    "    您已经创建了数据库 mydatabase.\n",
    "    mydatabase EMPLOYEE\n",
    "    EMPLOYEE表字段为 FIRST_NAME, LAST_NAME, AGE, SEX 和 INCOME。\n",
    "    连接数据库mydatabase使用的用户名为 \"root\" ，密码为 \"123456\",你可以可以自己设定或者直接使用root用户名及其密码，Mysql数据库用户授权请使用Grant命令。\n",
    "    在你的机子上已经安装了 Python MySQLdb 模块。\n",
    "    如果您对sql语句不熟悉，可以访问我们的 SQL基础教程"
   ]
  },
  {
   "cell_type": "code",
   "execution_count": 1,
   "metadata": {
    "ExecuteTime": {
     "end_time": "2019-07-01T06:41:08.536000Z",
     "start_time": "2019-07-01T06:41:08.464000Z"
    }
   },
   "outputs": [
    {
     "name": "stdout",
     "output_type": "stream",
     "text": [
      "Database version : 5.6.30 \n"
     ]
    }
   ],
   "source": [
    "import pymysql\n",
    "\n",
    "# 打开数据库连接\n",
    "db = pymysql.connect(\"localhost\", \"root\", \"123456\", \"mydatabase\" )\n",
    "\n",
    "# 使用 cursor() 方法创建一个游标对象 cursor\n",
    "cursor = db.cursor()\n",
    "\n",
    "# 使用 execute()  方法执行 SQL 查询 \n",
    "cursor.execute(\"SELECT VERSION()\")\n",
    "\n",
    "# 使用 fetchone() 方法获取单条数据.\n",
    "data = cursor.fetchone()\n",
    "\n",
    "print (\"Database version : %s \" % data)\n",
    "\n",
    "# 关闭数据库连接\n",
    "db.close()"
   ]
  },
  {
   "cell_type": "markdown",
   "metadata": {},
   "source": [
    "#### 创建数据库表\n",
    "\n",
    "如果数据库连接存在我们可以使用execute()方法来为数据库创建表，如下所示创建表EMPLOYEE2019070102："
   ]
  },
  {
   "cell_type": "code",
   "execution_count": 3,
   "metadata": {
    "ExecuteTime": {
     "end_time": "2019-07-01T06:43:01.650000Z",
     "start_time": "2019-07-01T06:43:01.313000Z"
    }
   },
   "outputs": [],
   "source": [
    "import pymysql\n",
    "\n",
    "# 打开数据库连接\n",
    "db = pymysql.connect(\"localhost\", \"root\", \"123456\", \"mydatabase\" )\n",
    "\n",
    "# 使用 cursor() 方法创建一个游标对象 cursor\n",
    "cursor = db.cursor()\n",
    "\n",
    "# 使用 execute() 方法执行 SQL，如果表存在则删除\n",
    "cursor.execute(\"DROP TABLE IF EXISTS EMPLOYEE2019070102\")\n",
    "\n",
    "# 使用预处理语句创建表\n",
    "sql = \"\"\"CREATE TABLE EMPLOYEE2019070102 (\n",
    "         FIRST_NAME  CHAR(20) NOT NULL,\n",
    "         LAST_NAME  CHAR(20),\n",
    "         AGE INT,  \n",
    "         SEX CHAR(1),\n",
    "         INCOME FLOAT )\"\"\"\n",
    "\n",
    "cursor.execute(sql)\n",
    "\n",
    "# 关闭数据库连接\n",
    "db.close()"
   ]
  },
  {
   "cell_type": "markdown",
   "metadata": {},
   "source": [
    "#### 数据库插入操作\n",
    "\n",
    "以下实例使用执行 SQL INSERT 语句向表 EMPLOYEE2019070102 插入记录"
   ]
  },
  {
   "cell_type": "code",
   "execution_count": 4,
   "metadata": {
    "ExecuteTime": {
     "end_time": "2019-07-01T06:44:46.970000Z",
     "start_time": "2019-07-01T06:44:46.851000Z"
    }
   },
   "outputs": [],
   "source": [
    "import pymysql\n",
    "\n",
    "# 打开数据库连接\n",
    "db = pymysql.connect(\"localhost\", \"root\", \"123456\", \"mydatabase\" )\n",
    "\n",
    "# 使用cursor()方法获取操作游标 \n",
    "cursor = db.cursor()\n",
    "\n",
    "# SQL 插入语句\n",
    "sql = \"\"\"INSERT INTO EMPLOYEE2019070102(FIRST_NAME,\n",
    "         LAST_NAME, AGE, SEX, INCOME)\n",
    "         VALUES ('Mac', 'Mohan', 20, 'M', 2000)\"\"\"\n",
    "try:\n",
    "   # 执行sql语句\n",
    "   cursor.execute(sql)\n",
    "   # 提交到数据库执行\n",
    "   db.commit()\n",
    "except:\n",
    "   # 如果发生错误则回滚\n",
    "   db.rollback()\n",
    "\n",
    "# 关闭数据库连接\n",
    "db.close()"
   ]
  },
  {
   "cell_type": "markdown",
   "metadata": {},
   "source": [
    "以上例子也可以写成如下形式"
   ]
  },
  {
   "cell_type": "code",
   "execution_count": 5,
   "metadata": {
    "ExecuteTime": {
     "end_time": "2019-07-01T06:45:58.574000Z",
     "start_time": "2019-07-01T06:45:58.387000Z"
    }
   },
   "outputs": [],
   "source": [
    "import pymysql\n",
    "\n",
    "# 打开数据库连接\n",
    "db = pymysql.connect(\"localhost\", \"root\", \"123456\", \"mydatabase\" )\n",
    "\n",
    "# 使用cursor()方法获取操作游标 \n",
    "cursor = db.cursor()\n",
    "\n",
    "# SQL 插入语句\n",
    "sql = \"INSERT INTO EMPLOYEE2019070102(FIRST_NAME, \\\n",
    "       LAST_NAME, AGE, SEX, INCOME) \\\n",
    "       VALUES ('%s', '%s', '%d', '%c', '%d' )\" % \\\n",
    "       ('Mac2', 'Mohan2', 20, 'M', 2000)\n",
    "try:\n",
    "   # 执行sql语句\n",
    "   cursor.execute(sql)\n",
    "   # 执行sql语句\n",
    "   db.commit()\n",
    "except:\n",
    "   # 发生错误时回滚\n",
    "   db.rollback()\n",
    "\n",
    "# 关闭数据库连接\n",
    "db.close()"
   ]
  },
  {
   "cell_type": "markdown",
   "metadata": {},
   "source": [
    "以下代码使用变量向SQL语句中传递参数:\n",
    "    \n",
    "    ..................................\n",
    "    user_id = \"test123\"\n",
    "    password = \"password\"\n",
    "\n",
    "    con.execute('insert into Login values(\"%s\", \"%s\")' % \\\n",
    "                 (user_id, password))\n",
    "    .................................."
   ]
  },
  {
   "cell_type": "markdown",
   "metadata": {},
   "source": [
    "#### 插入多条数据\n",
    "    \n",
    "    批量操作executemany，可以进行多行插入 先写sql语句。要注意的是里面的参数，不管什么类型，统一使用%s作为占位符 例如，向user表(username,salt,pwd)插入数据\n",
    "\n",
    "        sql = 'INSERT INTO 表名 VALUES(%s,%s,%s)'\n",
    "\n",
    "    对应的param是一个tuple或者list\n",
    "\n",
    "        param = ((username1, salt1, pwd1), (username2, salt2, pwd2), (username3, salt3, pwd3))\n",
    "\n",
    "    这样就包含了三条数据，通过executemany插入\n",
    "\n",
    "        n=cursor.executemany(sql, param)"
   ]
  },
  {
   "cell_type": "code",
   "execution_count": 6,
   "metadata": {
    "ExecuteTime": {
     "end_time": "2019-07-01T06:49:46.994000Z",
     "start_time": "2019-07-01T06:49:46.827000Z"
    }
   },
   "outputs": [
    {
     "name": "stderr",
     "output_type": "stream",
     "text": [
      "d:\\Anaconda3\\lib\\site-packages\\pymysql\\cursors.py:170: Warning: (1265, \"Data truncated for column 'SEX' at row 1\")\n",
      "  result = self._query(query)\n",
      "d:\\Anaconda3\\lib\\site-packages\\pymysql\\cursors.py:170: Warning: (1265, \"Data truncated for column 'SEX' at row 2\")\n",
      "  result = self._query(query)\n",
      "d:\\Anaconda3\\lib\\site-packages\\pymysql\\cursors.py:170: Warning: (1265, \"Data truncated for column 'SEX' at row 3\")\n",
      "  result = self._query(query)\n"
     ]
    }
   ],
   "source": [
    "# coding:utf-8\n",
    "import pymysql\n",
    "\n",
    "# 打开数据库连接\n",
    "db = pymysql.connect(host='localhost', port=3306,\n",
    "                     user='root', password='123456', db='mydatabase', charset='utf8')\n",
    "\n",
    "# 使用cursor()方法获取操作游标\n",
    "cursor = db.cursor()\n",
    "\n",
    "# SQL 插入语句\n",
    "sql = \"INSERT INTO EMPLOYEE2019070102(FIRST_NAME, AGE, SEX, INCOME) VALUES (%s,%s,%s,%s)\"\n",
    "# 一个tuple或者list\n",
    "T = (('xiaoming', 31, 'boy', 2500), ('hong', 22, 'girl', 1900), ('wang', 90, 'man', 1700))\n",
    "\n",
    "try:\n",
    "    # 执行sql语句\n",
    "    cursor.executemany(sql, T)\n",
    "    # 提交到数据库执行\n",
    "    db.commit()\n",
    "except :\n",
    "    # 如果发生错误则回滚\n",
    "    db.rollback()\n",
    "# 关闭游标\n",
    "cursor.close()\n",
    "# 关闭数据库连接\n",
    "db.close()"
   ]
  },
  {
   "cell_type": "markdown",
   "metadata": {},
   "source": [
    "#### 数据库查询操作\n",
    "\n",
    "Python查询Mysql使用 fetchone() 方法获取单条数据, 使用fetchall() 方法获取多条数据。\n",
    "\n",
    "    fetchone(): 该方法获取下一个查询结果集。结果集是一个对象\n",
    "    fetchall(): 接收全部的返回结果行.\n",
    "    rowcount: 这是一个只读属性，并返回执行execute()方法后影响的行数。"
   ]
  },
  {
   "cell_type": "markdown",
   "metadata": {},
   "source": [
    "查询EMPLOYEE2019070102表中INCOME（收入）字段大于2000的所有数据"
   ]
  },
  {
   "cell_type": "code",
   "execution_count": 7,
   "metadata": {
    "ExecuteTime": {
     "end_time": "2019-07-01T06:52:40.344000Z",
     "start_time": "2019-07-01T06:52:40.315000Z"
    }
   },
   "outputs": [
    {
     "name": "stdout",
     "output_type": "stream",
     "text": [
      "fname=xiaoming,lname=None,age=31,sex=b,income=2500\n"
     ]
    }
   ],
   "source": [
    "# coding:utf-8\n",
    "import pymysql\n",
    "\n",
    "# 打开数据库连接\n",
    "db = pymysql.connect(host='localhost', port=3306,\n",
    "                     user='root', password='123456', db='mydatabase', charset='utf8')\n",
    "\n",
    "# 使用cursor()方法获取操作游标\n",
    "cursor = db.cursor()\n",
    "\n",
    "# SQL 查询语句\n",
    "sql = \"SELECT * FROM EMPLOYEE2019070102 \\\n",
    "       WHERE INCOME > '%d'\" % (2000)\n",
    "try:\n",
    "    # 执行SQL语句\n",
    "    cursor.execute(sql)\n",
    "    # 获取所有记录列表\n",
    "    results = cursor.fetchall()\n",
    "    for row in results:\n",
    "        fname = row[0]\n",
    "        lname = row[1]\n",
    "        age = row[2]\n",
    "        sex = row[3]\n",
    "        income = row[4]\n",
    "        # 打印结果\n",
    "        print (\"fname=%s,lname=%s,age=%d,sex=%s,income=%d\" % \\\n",
    "               (fname, lname, age, sex, income ))\n",
    "except:\n",
    "    print(\"Error: unable to fecth data\")\n",
    "\n",
    "# 关闭数据库连接\n",
    "db.close()"
   ]
  },
  {
   "cell_type": "markdown",
   "metadata": {},
   "source": [
    "#### 数据库更新操作\n",
    "\n",
    "更新操作用于更新数据表的的数据，以下实例将 mydatabase表中的 SEX 字段全部修改为 'M'，AGE 字段递增1"
   ]
  },
  {
   "cell_type": "code",
   "execution_count": 9,
   "metadata": {
    "ExecuteTime": {
     "end_time": "2019-07-01T06:56:55.728000Z",
     "start_time": "2019-07-01T06:56:55.620000Z"
    }
   },
   "outputs": [],
   "source": [
    "# coding:utf-8\n",
    "import pymysql\n",
    "\n",
    "# 打开数据库连接\n",
    "db = pymysql.connect(host='localhost', port=3306,\n",
    "                     user='root', password='123456', db='mydatabase', charset='utf8')\n",
    "\n",
    "# 使用cursor()方法获取操作游标 \n",
    "cursor = db.cursor()\n",
    "\n",
    "# SQL 更新语句\n",
    "sql = \"UPDATE EMPLOYEE2019070102 SET AGE = AGE + 1 WHERE SEX = '%c'\" % ('M')\n",
    "try:\n",
    "   # 执行SQL语句\n",
    "   cursor.execute(sql)\n",
    "   # 提交到数据库执行\n",
    "   db.commit()\n",
    "except:\n",
    "   # 发生错误时回滚\n",
    "   db.rollback()\n",
    "\n",
    "# 关闭数据库连接\n",
    "db.close()"
   ]
  },
  {
   "cell_type": "markdown",
   "metadata": {},
   "source": [
    "#### 删除操作\n",
    "\n",
    "删除操作用于删除数据表中的数据，以下实例演示了删除数据表 EMPLOYEE2019070102 中 AGE 大于 30 的所有数据"
   ]
  },
  {
   "cell_type": "code",
   "execution_count": 10,
   "metadata": {
    "ExecuteTime": {
     "end_time": "2019-07-01T06:59:27.064000Z",
     "start_time": "2019-07-01T06:59:26.946000Z"
    }
   },
   "outputs": [],
   "source": [
    "import pymysql\n",
    "\n",
    "# 打开数据库连接\n",
    "db = pymysql.connect(host='localhost', port=3306,\n",
    "                     user='root', password='123456', db='mydatabase', charset='utf8')\n",
    "\n",
    "# 使用cursor()方法获取操作游标 \n",
    "cursor = db.cursor()\n",
    "\n",
    "# SQL 删除语句\n",
    "sql = \"DELETE FROM EMPLOYEE2019070102 WHERE AGE > '%d'\" % (30)\n",
    "try:\n",
    "   # 执行SQL语句\n",
    "   cursor.execute(sql)\n",
    "   # 提交修改\n",
    "   db.commit()\n",
    "except:\n",
    "   # 发生错误时回滚\n",
    "   db.rollback()\n",
    "\n",
    "# 关闭连接\n",
    "db.close()"
   ]
  },
  {
   "cell_type": "markdown",
   "metadata": {},
   "source": [
    "#### 对已经存在的表添加新的字段\n",
    "\n",
    "(鱼C论坛)\n",
    "\n",
    "https://fishc.com.cn/thread-134470-1-1.html"
   ]
  },
  {
   "cell_type": "code",
   "execution_count": null,
   "metadata": {},
   "outputs": [],
   "source": [
    "# coding:utf-8\n",
    "import pymysql\n",
    "\n",
    "# 打开数据库连接\n",
    "db = pymysql.connect(host='localhost', port=3306,\n",
    "                     user='root', password='123456', db='mydatabase', charset='utf8')\n",
    "\n",
    "# 使用cursor()方法获取操作游标\n",
    "cursor = db.cursor()\n",
    "\n",
    "# 在EMPLOYEE2019070102表中添加新的列address\n",
    "sql = \"ALTER TABLE EMPLOYEE2019070102 ADD COLUMN address VARCHAR(10) NOT NULL\"\n",
    "\n",
    "try:\n",
    "    # 执行sql语句\n",
    "    cursor.execute(sql)\n",
    "    # 提交到数据库执行\n",
    "    db.commit()\n",
    "except :\n",
    "    # 如果发生错误则回滚\n",
    "    db.rollback()\n",
    "# 关闭游标\n",
    "cursor.close()\n",
    "# 关闭数据库连接\n",
    "db.close()"
   ]
  },
  {
   "cell_type": "markdown",
   "metadata": {},
   "source": [
    "#### 修改字段名"
   ]
  },
  {
   "cell_type": "code",
   "execution_count": 12,
   "metadata": {
    "ExecuteTime": {
     "end_time": "2019-07-01T07:41:55.054000Z",
     "start_time": "2019-07-01T07:41:54.033000Z"
    }
   },
   "outputs": [],
   "source": [
    "# coding:utf-8\n",
    "import pymysql\n",
    "\n",
    "# 打开数据库连接\n",
    "db = pymysql.connect(host='localhost', port=3306,\n",
    "                     user='root', password='123456', db='mydatabase', charset='utf8')\n",
    "\n",
    "# 使用cursor()方法获取操作游标\n",
    "cursor = db.cursor()\n",
    "\n",
    "# 修改表EMPLOYEE2019070102的字段名称INCOME为Salary\n",
    "sql = \"ALTER TABLE EMPLOYEE2019070102 CHANGE COLUMN INCOME Salary VARCHAR(20) NOT NULL\"\n",
    "\n",
    "try:\n",
    "    # 执行sql语句\n",
    "    cursor.execute(sql)\n",
    "    # 提交到数据库执行\n",
    "    db.commit()\n",
    "except :\n",
    "    # 如果发生错误则回滚\n",
    "    db.rollback()\n",
    "# 关闭游标\n",
    "cursor.close()\n",
    "# 关闭数据库连接\n",
    "db.close()"
   ]
  },
  {
   "cell_type": "markdown",
   "metadata": {},
   "source": [
    "#### 删除字段(列)"
   ]
  },
  {
   "cell_type": "code",
   "execution_count": 16,
   "metadata": {
    "ExecuteTime": {
     "end_time": "2019-07-01T07:48:00.666000Z",
     "start_time": "2019-07-01T07:48:00.042000Z"
    }
   },
   "outputs": [],
   "source": [
    "import pymysql\n",
    "\n",
    "# 打开数据库连接\n",
    "db = pymysql.connect(host='localhost', port=3306,\n",
    "                     user='root', password='123456', db='mydatabase', charset='utf8')\n",
    "\n",
    "# 使用cursor()方法获取操作游标\n",
    "cursor = db.cursor()\n",
    "\n",
    "# 把表EMPLOYEE2019070102中的字段address删除\n",
    "sql = \"ALTER TABLE EMPLOYEE2019070102 DROP COLUMN address\"\n",
    "\n",
    "try:\n",
    "    # 执行sql语句\n",
    "    cursor.execute(sql)\n",
    "    # 提交到数据库执行\n",
    "    db.commit()\n",
    "except :\n",
    "    # 如果发生错误则回滚\n",
    "    db.rollback()\n",
    "# 关闭游标\n",
    "cursor.close()\n",
    "# 关闭数据库连接\n",
    "db.close()"
   ]
  },
  {
   "cell_type": "markdown",
   "metadata": {},
   "source": [
    "#### 统计数据表的数据量(条)\n",
    "\n",
    "http://www.mysqltutorial.org/mysql-row-count/"
   ]
  },
  {
   "cell_type": "code",
   "execution_count": 23,
   "metadata": {
    "ExecuteTime": {
     "end_time": "2019-07-01T08:22:26.109000Z",
     "start_time": "2019-07-01T08:22:26.090000Z"
    }
   },
   "outputs": [
    {
     "name": "stdout",
     "output_type": "stream",
     "text": [
      "数据量: 42\n"
     ]
    }
   ],
   "source": [
    "import pymysql\n",
    "\n",
    "# 打开数据库连接\n",
    "db = pymysql.connect(host='localhost', port=3306,\n",
    "                     user='root', password='123456', db='mydatabase', charset='utf8')\n",
    "\n",
    "# 使用cursor()方法获取操作游标\n",
    "cursor = db.cursor()\n",
    "\n",
    "# 统计customers表内数据条数\n",
    "sql = \"SELECT COUNT(*) FROM customers\"\n",
    "\n",
    "try:\n",
    "    # 执行sql语句\n",
    "    results = cursor.execute(sql)\n",
    "    # 提交到数据库执行\n",
    "    db.commit()\n",
    "    print(\"数据量:\", list(cursor)[0][0])\n",
    "except :\n",
    "    # 如果发生错误则回滚\n",
    "    db.rollback()\n",
    "# 关闭游标\n",
    "cursor.close()\n",
    "# 关闭数据库连接\n",
    "db.close()"
   ]
  },
  {
   "cell_type": "code",
   "execution_count": null,
   "metadata": {},
   "outputs": [],
   "source": []
  },
  {
   "cell_type": "markdown",
   "metadata": {},
   "source": [
    "#### 输出前N条数据\n",
    "\n",
    "Python 3 进阶 —— 使用 PyMySQL 操作 MySQL\n",
    "https://shockerli.net/post/python3-pymysql/\n",
    "\n",
    "https://code-maven.com/slides/python-programming/select-some-data\n",
    "\n",
    "https://blog.51cto.com/haowen/2129507"
   ]
  },
  {
   "cell_type": "code",
   "execution_count": 41,
   "metadata": {
    "ExecuteTime": {
     "end_time": "2019-07-01T08:53:26.997000Z",
     "start_time": "2019-07-01T08:53:26.981000Z"
    }
   },
   "outputs": [
    {
     "name": "stdout",
     "output_type": "stream",
     "text": [
      "5\n",
      "('John', 'Highway 21')\n",
      "('Peter', 'Lowstreet 4')\n",
      "('Amy', 'Apple st 652')\n",
      "('Hannah', 'Mountain 21')\n",
      "('Michael', 'Valley 345')\n"
     ]
    }
   ],
   "source": [
    "import pymysql\n",
    "\n",
    "# 打开数据库连接\n",
    "db = pymysql.connect(host='localhost', port=3306,\n",
    "                     user='root', password='123456', db='mydatabase', charset='utf8')\n",
    "\n",
    "# 使用cursor()方法获取操作游标\n",
    "cursor = db.cursor()\n",
    "\n",
    "# 统计customers表内数据条数\n",
    "sql = \"SELECT * FROM customers\"\n",
    "\n",
    "try:\n",
    "    cursor.execute(\"SELECT * FROM customers\")\n",
    "    size = 5\n",
    "    # while True:\n",
    "    rows = cursor.fetchmany(size)  # 输出前5条数据\n",
    "    # if not rows:\n",
    "    #     break\n",
    "    print(len(rows))\n",
    "    for row in rows:\n",
    "        print(row)\n",
    "except :\n",
    "    # 如果发生错误则回滚\n",
    "    db.rollback()\n",
    "# 关闭游标\n",
    "cursor.close()\n",
    "# 关闭数据库连接\n",
    "db.close()"
   ]
  },
  {
   "cell_type": "code",
   "execution_count": null,
   "metadata": {},
   "outputs": [],
   "source": []
  },
  {
   "cell_type": "code",
   "execution_count": null,
   "metadata": {},
   "outputs": [],
   "source": []
  },
  {
   "cell_type": "code",
   "execution_count": null,
   "metadata": {},
   "outputs": [],
   "source": []
  },
  {
   "cell_type": "code",
   "execution_count": null,
   "metadata": {},
   "outputs": [],
   "source": []
  },
  {
   "cell_type": "code",
   "execution_count": null,
   "metadata": {},
   "outputs": [],
   "source": []
  },
  {
   "cell_type": "code",
   "execution_count": null,
   "metadata": {},
   "outputs": [],
   "source": []
  },
  {
   "cell_type": "code",
   "execution_count": null,
   "metadata": {},
   "outputs": [],
   "source": []
  }
 ],
 "metadata": {
  "kernelspec": {
   "display_name": "Python 3",
   "language": "python",
   "name": "python3"
  },
  "language_info": {
   "codemirror_mode": {
    "name": "ipython",
    "version": 3
   },
   "file_extension": ".py",
   "mimetype": "text/x-python",
   "name": "python",
   "nbconvert_exporter": "python",
   "pygments_lexer": "ipython3",
   "version": "3.6.2"
  },
  "toc": {
   "nav_menu": {},
   "number_sections": true,
   "sideBar": true,
   "skip_h1_title": false,
   "title_cell": "Table of Contents",
   "title_sidebar": "Contents",
   "toc_cell": false,
   "toc_position": {},
   "toc_section_display": true,
   "toc_window_display": false
  },
  "varInspector": {
   "cols": {
    "lenName": 16,
    "lenType": 16,
    "lenVar": 40
   },
   "kernels_config": {
    "python": {
     "delete_cmd_postfix": "",
     "delete_cmd_prefix": "del ",
     "library": "var_list.py",
     "varRefreshCmd": "print(var_dic_list())"
    },
    "r": {
     "delete_cmd_postfix": ") ",
     "delete_cmd_prefix": "rm(",
     "library": "var_list.r",
     "varRefreshCmd": "cat(var_dic_list()) "
    }
   },
   "types_to_exclude": [
    "module",
    "function",
    "builtin_function_or_method",
    "instance",
    "_Feature"
   ],
   "window_display": false
  }
 },
 "nbformat": 4,
 "nbformat_minor": 2
}
